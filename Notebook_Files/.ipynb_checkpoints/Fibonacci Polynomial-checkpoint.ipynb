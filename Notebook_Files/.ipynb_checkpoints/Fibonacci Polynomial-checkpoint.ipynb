{
 "cells": [
  {
   "cell_type": "markdown",
   "metadata": {},
   "source": [
    "### Fibonacci Polynomial\n",
    "\n",
    "These Fibonacci polynomials are defined by a recurrence relation:\n",
    "\n",
    "$F_{n}(x)=$  \\begin{cases}0,&{\\mbox{if }}n=0\\\\1,&{\\mbox{if }}n=1\\\\xF_{n-1}(x)+F_{n-2}(x),&{\\mbox{if }}n\\geq 2\\end{cases}\n",
    "\n",
    "\n",
    "The first few Fibonacci polynomials are:\n",
    "\n",
    "$F_{0}(x)=0$\n",
    "\n",
    "$F_{1}(x)=1$\n",
    "\n",
    "$F_{2}(x)=x$\n",
    "\n",
    "$F_{3}(x)=x^{2}+1$\n",
    "\n",
    "$F_{4}(x)=x^{3}+2x$\n",
    "\n",
    "$F_{5}(x)=x^{4}+3x^{2}+1$\n",
    "\n",
    "$F_{6}(x)=x^{5}+4x^{3}+3x$"
   ]
  },
  {
   "cell_type": "code",
   "execution_count": null,
   "metadata": {},
   "outputs": [],
   "source": [
    "# Define fib function\n",
    "def fib(n):\n",
    "    if n == 0:\n",
    "        return 0\n",
    "    elif n == 1 or n == 2:\n",
    "        return 1\n",
    "    else:\n",
    "        return (fib(n-1) + fib(n-2))"
   ]
  },
  {
   "cell_type": "code",
   "execution_count": null,
   "metadata": {
    "scrolled": true
   },
   "outputs": [],
   "source": [
    "# Create input statement\n",
    "n = int(input('Enter n number of Fibonacci Polynomial: '))\n",
    "for i in range(n+1):\n",
    "    print('fib(%d)=%d' %(i, fib(i)))"
   ]
  },
  {
   "cell_type": "code",
   "execution_count": null,
   "metadata": {},
   "outputs": [],
   "source": []
  }
 ],
 "metadata": {
  "kernelspec": {
   "display_name": "Python 3",
   "language": "python",
   "name": "python3"
  },
  "language_info": {
   "codemirror_mode": {
    "name": "ipython",
    "version": 3
   },
   "file_extension": ".py",
   "mimetype": "text/x-python",
   "name": "python",
   "nbconvert_exporter": "python",
   "pygments_lexer": "ipython3",
   "version": "3.7.1"
  }
 },
 "nbformat": 4,
 "nbformat_minor": 2
}
