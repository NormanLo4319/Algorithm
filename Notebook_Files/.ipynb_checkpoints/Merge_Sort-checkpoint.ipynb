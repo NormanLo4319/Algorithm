{
 "cells": [
  {
   "cell_type": "markdown",
   "metadata": {},
   "source": [
    "## Merge Sort Algorithm\n",
    "\n",
    "Merge sort is another divide-and-conquer algorithm commonly used in data science.  The idea of merge sort is based on the idea of breaking down a list into several sub-lists until each sublist consists of a signle element and merging those sublists in a manner that results into a sorted list.\n",
    "\n",
    "#### Idea:\n",
    "1. Divide the unsorted list into N sublist, each containing 1 element.\n",
    "2. Take adjacent pairs of two signleton lists and merge them to form a list of 2 elements.  N will now convert into N/2 lists of size 2.\n",
    "3. Repeat the process till a signle sorted lsit of obtained."
   ]
  },
  {
   "cell_type": "code",
   "execution_count": null,
   "metadata": {},
   "outputs": [],
   "source": [
    "# Merge Sort\n",
    "\n",
    "# Create three lists\n",
    "list1 = [20, 45, 51, 88, 99999]\n",
    "list2 = [98, 10, 23, 15, 99999]\n",
    "list3 = []\n"
   ]
  },
  {
   "cell_type": "code",
   "execution_count": null,
   "metadata": {},
   "outputs": [],
   "source": [
    "# Define merge_sort function\n",
    "def merge_sort():\n",
    "    global list1\n",
    "    global list2\n",
    "    global list3\n",
    "    \n",
    "    # First sort list 1 and 2, then merge the two\n",
    "    select_sort(list1, len(list1)-1)\n",
    "    select_sort(list2, len(list2)-1)\n",
    "    \n",
    "    print('\\n List 1 Sorted Result: ', end='')\n",
    "    for i in range(len(list1)-1):\n",
    "        print(list1[i], '', end='')\n",
    "    \n",
    "    print('\\n List 2 Sorted Result: ', end='')\n",
    "    for i in range(len(list2)-1):\n",
    "        print(list2[i], '', end='')\n",
    "    print()\n",
    "    \n",
    "    for i in range(60):\n",
    "        print('=', end='')\n",
    "    print()\n",
    "    \n",
    "    my_merge(len(list1)-1, len(list2)-1)\n",
    "    \n",
    "    for i in range(60):\n",
    "        print('=', end='')\n",
    "    print()\n",
    "    \n",
    "    print('\\n Merged Sorting Result: ', end='')\n",
    "    for i in range(len(list1)+len(list2)-2):\n",
    "        print('%d ' % list3[i], end='')"
   ]
  },
  {
   "cell_type": "code",
   "execution_count": null,
   "metadata": {},
   "outputs": [],
   "source": [
    "# Define select_sort function\n",
    "def select_sort(data, size):\n",
    "    for base in range(size-1):\n",
    "        small = base\n",
    "        for j in range(base+1, size):\n",
    "            if data[j] < data[small]:\n",
    "                small = j\n",
    "        data[small], data[base] = data[base], data[small]"
   ]
  },
  {
   "cell_type": "code",
   "execution_count": null,
   "metadata": {},
   "outputs": [],
   "source": [
    "# Define my_merge function\n",
    "def my_merge(size1, size2):\n",
    "    global list1\n",
    "    global list2\n",
    "    global list3\n",
    "    \n",
    "    index1 = 0\n",
    "    index2 = 0\n",
    "    for index3 in range(len(list1)+len(list2)-2):\n",
    "        if list1[index1] < list2[index2]:\n",
    "            list3. append(list1[index1])\n",
    "            index1 += 1\n",
    "            print('This number %d is coming from list 1 ' % list3[index3])\n",
    "        else:\n",
    "            list3.append(list2[index2])\n",
    "            index2 += 1\n",
    "            print('This number %d is coming from list 2 ' % list3[index3])\n",
    "        print('The current ordering is: ', end='')\n",
    "        for i in range(index3+1):\n",
    "            print(list3[i], ' ', end='')\n",
    "        print('\\n')"
   ]
  },
  {
   "cell_type": "code",
   "execution_count": null,
   "metadata": {},
   "outputs": [],
   "source": [
    "merge_sort()"
   ]
  }
 ],
 "metadata": {
  "kernelspec": {
   "display_name": "Python 3",
   "language": "python",
   "name": "python3"
  },
  "language_info": {
   "codemirror_mode": {
    "name": "ipython",
    "version": 3
   },
   "file_extension": ".py",
   "mimetype": "text/x-python",
   "name": "python",
   "nbconvert_exporter": "python",
   "pygments_lexer": "ipython3",
   "version": "3.7.1"
  }
 },
 "nbformat": 4,
 "nbformat_minor": 2
}
