{
 "cells": [
  {
   "cell_type": "markdown",
   "metadata": {},
   "source": [
    "### Quicksort Algorithm\n",
    "\n",
    "Sorting is one of the most common used algorithm in data science.  We usually use sorting to organize or rank the data follow some particular rules.  \"Quicksort\" is developed by British computer scientist Tony Hoare in 1959.  It is also known as \"divide-and-conquer algorithm\".  It first divides the input arrange into two smaller sub-arrays: the low elements and the high elements.  It then recursively sorts the sub-arrays.  \n",
    "\n",
    "#### Steps\n",
    "1. Pick an random element, called a pivot, from the array.\n",
    "2. Partitioning or reordering the array so that all elements with values less than the pivot come before the pivot, while all elements with values greater than the pivot come after it.\n",
    "3. Recursively apply the above steps to the sub-array of elements with smaller values and separtately to the sub-array of elements with greater values."
   ]
  },
  {
   "cell_type": "code",
   "execution_count": null,
   "metadata": {},
   "outputs": [],
   "source": [
    "# Import dependency\n",
    "import random"
   ]
  },
  {
   "cell_type": "code",
   "execution_count": null,
   "metadata": {},
   "outputs": [],
   "source": [
    "# Define inputarr function\n",
    "def inputarr(data, size):\n",
    "    for i in range(size):\n",
    "        data[i]=random.randint(1, 100)"
   ]
  },
  {
   "cell_type": "code",
   "execution_count": null,
   "metadata": {},
   "outputs": [],
   "source": [
    "# Define showdata function\n",
    "def showdata(data, size):\n",
    "    for i in range(size):\n",
    "        print('%3d' %data[i], end='')"
   ]
  },
  {
   "cell_type": "code",
   "execution_count": null,
   "metadata": {},
   "outputs": [],
   "source": [
    "# Define quick function\n",
    "def quick(d, size, lf, rg):\n",
    "    if lf < rg:\n",
    "        lf_idx=lf+1\n",
    "        while d[lf_idx] < d[lf]:\n",
    "            if lf_idx+1 > size:\n",
    "                break\n",
    "            lf_idx += 1\n",
    "        rg_idx=rg\n",
    "        while d[rg_idx] > d[lf]:\n",
    "            rg_idx -= 1\n",
    "        while lf_idx < rg_idx:\n",
    "            d[lf_idx], d[rg_idx] = d[rg_idx], d[lf_idx]\n",
    "            lf_idx += 1\n",
    "            while d[lf_idx] < d[lf]:\n",
    "                lf_idx += 1\n",
    "            rg_idx -= 1\n",
    "            while d[rg_idx] > d[lf]:\n",
    "                rg_idx -= 1\n",
    "        d[lf], d[rg_idx] = d[rg_idx], d[lf]\n",
    "        \n",
    "        for i in range(size):\n",
    "            print('%3d' %d[i], end='')\n",
    "        print()\n",
    "        \n",
    "        quick(d, size, lf, rg_idx-1)\n",
    "        quick(d, size, rg_idx+1, rg)"
   ]
  },
  {
   "cell_type": "code",
   "execution_count": null,
   "metadata": {},
   "outputs": [],
   "source": [
    "# Define main function\n",
    "def main():\n",
    "    data=[0]*100\n",
    "    size=int(input('Enter the size of the array for sorting (less than 100): '))\n",
    "    inputarr(data, size)\n",
    "    print('------------------------------------------')\n",
    "    print('Random Generated Data Output: ')\n",
    "    showdata(data,size)\n",
    "    print('\\n')\n",
    "    print('------------------------------------------')\n",
    "    print('Sorting Process: ')\n",
    "    quick(data,size,0,size-1)\n",
    "    print('------------------------------------------')\n",
    "    print('Quicksort Result: ')\n",
    "    showdata(data,size)\n",
    "main()"
   ]
  },
  {
   "cell_type": "code",
   "execution_count": null,
   "metadata": {},
   "outputs": [],
   "source": []
  }
 ],
 "metadata": {
  "kernelspec": {
   "display_name": "Python 3",
   "language": "python",
   "name": "python3"
  },
  "language_info": {
   "codemirror_mode": {
    "name": "ipython",
    "version": 3
   },
   "file_extension": ".py",
   "mimetype": "text/x-python",
   "name": "python",
   "nbconvert_exporter": "python",
   "pygments_lexer": "ipython3",
   "version": "3.7.1"
  }
 },
 "nbformat": 4,
 "nbformat_minor": 2
}
