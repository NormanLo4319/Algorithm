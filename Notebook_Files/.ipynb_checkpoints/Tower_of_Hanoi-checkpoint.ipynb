{
 "cells": [
  {
   "cell_type": "markdown",
   "metadata": {},
   "source": [
    "### Tower of Hanoi\n",
    "\n",
    "Franch mathematician Édouard Lucas in 1883 introduced a puzzle called 'The Tower of Hanoi'.  This puzzle is often brought up in data science and applied to solve recursive problems.  The puzzle is about an Indian temple in Kashi Vishwanath which contains a large room with three time-worn posts in it, surrounded by 64 golden disks.  Brahmin priests, acting out the command of an ancient prophecy, have been moving these disks in accordance with the immutalbe rules of Brahma since that time.  The puzzle is therefore also know as the Tower of Brahma puzzle.\n",
    "\n",
    "<img src='../images/tower_of_hanoi.png'>"
   ]
  },
  {
   "cell_type": "code",
   "execution_count": null,
   "metadata": {},
   "outputs": [],
   "source": [
    "def hanoi(n, p1, p2, p3):\n",
    "    if n == 1:\n",
    "        print('Disk is moving from %d to %d' %(p1, p3))\n",
    "    else:\n",
    "        hanoi(n-1, p1, p3, p2)\n",
    "        print('Disk is moving from %d to %d' %(p1, p3))\n",
    "        hanoi(n-1, p2, p1, p3)"
   ]
  },
  {
   "cell_type": "code",
   "execution_count": null,
   "metadata": {},
   "outputs": [],
   "source": [
    "j = int(input('Enter the total number of disk: '))\n",
    "hanoi(j, 1, 2, 3)"
   ]
  }
 ],
 "metadata": {
  "kernelspec": {
   "display_name": "Python 3",
   "language": "python",
   "name": "python3"
  },
  "language_info": {
   "codemirror_mode": {
    "name": "ipython",
    "version": 3
   },
   "file_extension": ".py",
   "mimetype": "text/x-python",
   "name": "python",
   "nbconvert_exporter": "python",
   "pygments_lexer": "ipython3",
   "version": "3.7.1"
  }
 },
 "nbformat": 4,
 "nbformat_minor": 2
}
