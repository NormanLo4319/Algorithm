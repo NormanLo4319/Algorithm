{
 "cells": [
  {
   "cell_type": "markdown",
   "metadata": {},
   "source": [
    "### Frog Jump Algorithm\n",
    "\n",
    "Frog Jumps algorithm is part of the greedy algorithms.  The frog begins at position 0 in the river.  Its goal is to get to position n.  There are lilypads at various positions.  There is always a lilypad at position 0 and position n.  The frog can jump at most r units at a time.  The goal for this algorithm is to find the path the frog should take to minimize jumps, assuming a soultion exits.\n",
    "\n",
    "\n",
    "<img src=\"../images/frog_jump.jpg\">\n"
   ]
  },
  {
   "cell_type": "code",
   "execution_count": null,
   "metadata": {},
   "outputs": [],
   "source": [
    "# Define JumpStep function, which the frog can only jump two lilypads max (r = 2)\n",
    "def JumpStep(n):\n",
    "    if n == 1:\n",
    "        return 1\n",
    "    elif n == 2:\n",
    "        return 2\n",
    "    else:\n",
    "        return JumpStep(n-1)+JumpStep(n-2)"
   ]
  },
  {
   "cell_type": "code",
   "execution_count": null,
   "metadata": {},
   "outputs": [],
   "source": [
    "for i in range(1, 10):\n",
    "    print(i, 'Lilypads has', JumpStep(i), 'many ways of jump.')"
   ]
  },
  {
   "cell_type": "code",
   "execution_count": null,
   "metadata": {},
   "outputs": [],
   "source": [
    "# Define JumpStep function, where the frog can jump three lilypads max (r = 3)\n",
    "def JumpStep(n):\n",
    "    if n == 1:\n",
    "        return 1\n",
    "    elif n == 2:\n",
    "        return 2\n",
    "    elif n == 3:\n",
    "        return 3\n",
    "    else:\n",
    "        return JumpStep(n-1)+JumpStep(n-2)+JumpStep(n-3)"
   ]
  },
  {
   "cell_type": "code",
   "execution_count": null,
   "metadata": {},
   "outputs": [],
   "source": [
    "for i in range(1, 10):\n",
    "    print(i, 'Lilypads has', JumpStep(i), 'many ways of jump.')"
   ]
  },
  {
   "cell_type": "code",
   "execution_count": null,
   "metadata": {},
   "outputs": [],
   "source": []
  }
 ],
 "metadata": {
  "kernelspec": {
   "display_name": "Python 3",
   "language": "python",
   "name": "python3"
  },
  "language_info": {
   "codemirror_mode": {
    "name": "ipython",
    "version": 3
   },
   "file_extension": ".py",
   "mimetype": "text/x-python",
   "name": "python",
   "nbconvert_exporter": "python",
   "pygments_lexer": "ipython3",
   "version": "3.7.1"
  }
 },
 "nbformat": 4,
 "nbformat_minor": 2
}
