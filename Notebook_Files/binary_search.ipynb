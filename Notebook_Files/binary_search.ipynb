{
 "cells": [
  {
   "cell_type": "markdown",
   "metadata": {},
   "source": [
    "### Binary Search Algorithm\n",
    "\n",
    "In the process of data management, we need to use the shortest time to locate and search for the needed information.  The term \"search\" basically refers to an action for locating the needed inforamtion (\"Key\") from the data set or data base.  Binary search, also known as half interval search, is a search algorithm that finds the position of a target value within a sorted array.  "
   ]
  },
  {
   "cell_type": "code",
   "execution_count": null,
   "metadata": {},
   "outputs": [],
   "source": [
    "# Importing dependency\n",
    "import random"
   ]
  },
  {
   "cell_type": "code",
   "execution_count": null,
   "metadata": {},
   "outputs": [],
   "source": [
    "# Define bin_search function\n",
    "def bin_search(data, val):\n",
    "    low = 0\n",
    "    high = 49\n",
    "    while low <= high and val !=-1:\n",
    "        mid=int((low+high)/2)\n",
    "        if val<data[mid]:\n",
    "            print('%d Between values %d[%3d] and the middle value %d[%3d], Search half on the left' \\\n",
    "                 %(val, low+1, data[low], mid+1, data[mid]))\n",
    "            high = mid-1\n",
    "        elif val>data[mid]:\n",
    "            print('%d Between the middle values %d[%3d] and %d[%3d], Search half on the right' \\\n",
    "                 %(val, mid+1, data[mid], high+1, data[high]))\n",
    "            low=mid+1\n",
    "        else:\n",
    "            return mid\n",
    "    return -1"
   ]
  },
  {
   "cell_type": "code",
   "execution_count": null,
   "metadata": {},
   "outputs": [],
   "source": [
    "# Create the testing values\n",
    "val = 1\n",
    "data = [0]*50\n",
    "for i in range(50):\n",
    "    data[i]=val\n",
    "    val=val+random.randint(1, 5)"
   ]
  },
  {
   "cell_type": "code",
   "execution_count": null,
   "metadata": {},
   "outputs": [],
   "source": [
    "# Create a custom input for binary search\n",
    "while True:\n",
    "    num=0\n",
    "    val=int(input('Enter a search key (1 - 150), enter -1 to end: '))\n",
    "    if val == -1:\n",
    "        break\n",
    "    num=bin_search(data,val)\n",
    "    if num == -1:\n",
    "        print('##### Cannot Find [%3d] #####' %val)\n",
    "    else:\n",
    "        print('We found [%3d] at position %2d' %(data[num], num+1))\n",
    "\n",
    "print('Data Information')\n",
    "for i in range(5):\n",
    "    for j in range(10):\n",
    "        print('%3d-%-3d' %(i*10+j+1, data[i*10+j]), end='')\n",
    "    print()"
   ]
  },
  {
   "cell_type": "code",
   "execution_count": null,
   "metadata": {},
   "outputs": [],
   "source": []
  }
 ],
 "metadata": {
  "kernelspec": {
   "display_name": "Python 3",
   "language": "python",
   "name": "python3"
  },
  "language_info": {
   "codemirror_mode": {
    "name": "ipython",
    "version": 3
   },
   "file_extension": ".py",
   "mimetype": "text/x-python",
   "name": "python",
   "nbconvert_exporter": "python",
   "pygments_lexer": "ipython3",
   "version": "3.7.1"
  }
 },
 "nbformat": 4,
 "nbformat_minor": 2
}
